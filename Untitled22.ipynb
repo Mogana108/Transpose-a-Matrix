{
  "nbformat": 4,
  "nbformat_minor": 0,
  "metadata": {
    "colab": {
      "name": "Untitled22.ipynb",
      "provenance": []
    },
    "kernelspec": {
      "name": "python3",
      "display_name": "Python 3"
    },
    "language_info": {
      "name": "python"
    }
  },
  "cells": [
    {
      "cell_type": "code",
      "execution_count": 1,
      "metadata": {
        "id": "ME93V0nxghG1",
        "outputId": "2cdae25f-9836-40b4-89e0-80b3d583832e",
        "colab": {
          "base_uri": "https://localhost:8080/"
        }
      },
      "outputs": [
        {
          "output_type": "stream",
          "name": "stdout",
          "text": [
            "The transpose of matrix A is: \n",
            "[5, 2, 4, 8]\n",
            "[4, 4, 7, 1]\n",
            "[3, 6, 9, 3]\n"
          ]
        }
      ],
      "source": [
        "# Define a matrix A  \n",
        "A = [[5, 4, 3],  \n",
        "         [2, 4, 6],  \n",
        "         [4, 7, 9],  \n",
        "         [8, 1, 3]]  \n",
        "# Define an empty matrix of reverse order  \n",
        "transResult = [[0, 0, 0, 0],    \n",
        "                             [0, 0, 0, 0],  \n",
        "                             [0, 0, 0, 0]]  \n",
        "# Use nested for loop on matrix A  \n",
        "for a in range(len(A)):    \n",
        "   for b in range(len(A[0])):    \n",
        "          transResult[b][a] = A[a][b] # store transpose result on empty matrix          \n",
        "# Printing result in the output  \n",
        "print(\"The transpose of matrix A is: \")  \n",
        "for res in transResult:    \n",
        "   print(res)  "
      ]
    }
  ]
}